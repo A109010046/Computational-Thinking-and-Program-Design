{
  "nbformat": 4,
  "nbformat_minor": 0,
  "metadata": {
    "kernelspec": {
      "display_name": "Python 3",
      "language": "python",
      "name": "python3"
    },
    "language_info": {
      "codemirror_mode": {
        "name": "ipython",
        "version": 3
      },
      "file_extension": ".py",
      "mimetype": "text/x-python",
      "name": "python",
      "nbconvert_exporter": "python",
      "pygments_lexer": "ipython3",
      "version": "3.8.5"
    },
    "colab": {
      "name": "林雨蓁-week12-條件選擇.ipynb",
      "provenance": [],
      "include_colab_link": true
    }
  },
  "cells": [
    {
      "cell_type": "markdown",
      "metadata": {
        "id": "view-in-github",
        "colab_type": "text"
      },
      "source": [
        "<a href=\"https://colab.research.google.com/github/A109010046/Computational-Thinking-and-Program-Design/blob/main/%E6%9E%97%E9%9B%A8%E8%93%81_week12_%E6%A2%9D%E4%BB%B6%E9%81%B8%E6%93%87.ipynb\" target=\"_parent\"><img src=\"https://colab.research.google.com/assets/colab-badge.svg\" alt=\"Open In Colab\"/></a>"
      ]
    },
    {
      "cell_type": "markdown",
      "metadata": {
        "id": "qmypHz9XFeCk"
      },
      "source": [
        "### 1. 單向選擇\n"
      ]
    },
    {
      "cell_type": "code",
      "metadata": {
        "id": "VlxvrVMxFeCp"
      },
      "source": [
        "## 範例：比較數字（一）: if\n",
        "\n",
        "In [3]: ## 數字資料 （一）\n",
        "   ...: num = int(input(\"請輸入一個數字: \"))\n",
        "   ...: if num > 0:\n",
        "   ...: \tprint(\"數字為正數\")\n",
        "   ...: print(\"比較完畢\")\n",
        "   ...: # 輸入5, 10, -3看結果\n",
        "\n",
        "請輸入一個數字: 5\n",
        "數字為正數\n",
        "比較完畢"
      ],
      "execution_count": null,
      "outputs": []
    },
    {
      "cell_type": "code",
      "metadata": {
        "id": "1DVf6EotFeCq",
        "colab": {
          "base_uri": "https://localhost:8080/"
        },
        "outputId": "e07b9d83-19e1-4cdc-e208-02efee3e1d69"
      },
      "source": [
        "num=int(input(\"請輸入一個數字:\"))\n",
        "if num>0:\n",
        "    print(\"數字為正數\")\n",
        "    print(\"比較完畢\")"
      ],
      "execution_count": 4,
      "outputs": [
        {
          "output_type": "stream",
          "text": [
            "請輸入一個數字:5\n",
            "數字為正數\n",
            "比較完畢\n"
          ],
          "name": "stdout"
        }
      ]
    },
    {
      "cell_type": "code",
      "metadata": {
        "id": "okMxS7jyFeCq"
      },
      "source": [
        "## 範例：比較數字（二）:串接if\n",
        "\n",
        "In [5]: num = int(input(\"輸入一個數字： \"))\n",
        "   ...: \n",
        "   ...: if num > 0:\n",
        "   ...: \tprint(\"是正數\")\n",
        "   ...: if num < 0:\n",
        "   ...: \tprint(\"是負數\")\n",
        "   ...: if num == 0:\n",
        "   ...: \tprint(\"數字是0\")\n",
        "   ...: print(\"比較完畢！\")\n",
        "\n",
        "輸入一個數字： 5\n",
        "是正數\n",
        "比較完畢！"
      ],
      "execution_count": null,
      "outputs": []
    },
    {
      "cell_type": "code",
      "metadata": {
        "id": "I65YT9LxFeCq",
        "colab": {
          "base_uri": "https://localhost:8080/"
        },
        "outputId": "4c5b9985-76ef-4062-ccff-4c240dac9af4"
      },
      "source": [
        "num=int(input(\"輸入一個數字:\"))\n",
        "if num>0:\n",
        "    print(\"是正數\")\n",
        "    if num<0:\n",
        "        print(\"是負數\")\n",
        "        if num==0:\n",
        "            print(\"數字為0\")\n",
        "print(\"比較完畢!\")"
      ],
      "execution_count": 6,
      "outputs": [
        {
          "output_type": "stream",
          "text": [
            "輸入一個數字:5\n",
            "是正數\n",
            "比較完畢!\n"
          ],
          "name": "stdout"
        }
      ]
    },
    {
      "cell_type": "code",
      "metadata": {
        "id": "hM1LvMPVFeCr"
      },
      "source": [
        "## 範例：比較數字（三）:巢狀條件式\n",
        "\n",
        "In [6]: ## 巢狀條件式\n",
        "   ...: num_a = int(input(\"輸入第一個數字？ \"))\n",
        "   ...: num_b = int(input(\"輸入第二個數字？ \"))\n",
        "   ...: \n",
        "   ...: if num_a < 0:\n",
        "   ...: \tprint(\"第一個是負數\")\n",
        "   ...: \tif num_b < 0:\n",
        "   ...: \t\tprint(\"第二個也是負數\")\n",
        "   ...: print(\"比較完成\")\n",
        "\n",
        "輸入第一個數字？ 5\n",
        "\n",
        "輸入第二個數字？ 8\n",
        "比較完成\n",
        "\n",
        "In [7]: ## 非巢狀結構\n",
        "   ...: num_a = int(input(\"輸入第一個數字？ \"))\n",
        "   ...: num_b = int(input(\"輸入第二個數字？ \"))\n",
        "   ...: \n",
        "   ...: if num_a < 0:\n",
        "   ...: \tprint(\"第一個是負數\")\n",
        "   ...: if num_b < 0:\n",
        "   ...: \tprint(\"第二個是負數\")\n",
        "   ...: print(\"比較完成\")\n",
        "\n",
        "輸入第一個數字？ 5\n",
        "\n",
        "輸入第二個數字？ 8\n",
        "比較完成\n",
        "\n",
        "## 加分:請舉例說明這兩個程式的執行結果何時會不同?"
      ],
      "execution_count": null,
      "outputs": []
    },
    {
      "cell_type": "code",
      "metadata": {
        "id": "S8u_eJZ1FeCr",
        "colab": {
          "base_uri": "https://localhost:8080/"
        },
        "outputId": "9cbd2426-f1a7-45f9-fa1f-e09ab1948de6"
      },
      "source": [
        "num_a=int(input(\"輸入第一個數字？\"))\n",
        "num_b=int(input(\"輸入第二個數字？\"))\n",
        "if num_a<0:\n",
        "    print(\"第一個是負數\")\n",
        "    if num_b<0:\n",
        "        print(\"第二個也是負數\")\n",
        "print(\"比較完成\")"
      ],
      "execution_count": 8,
      "outputs": [
        {
          "output_type": "stream",
          "text": [
            "輸入第一個數字？5\n",
            "輸入第二個數字？8\n",
            "比較完成\n"
          ],
          "name": "stdout"
        }
      ]
    },
    {
      "cell_type": "code",
      "metadata": {
        "colab": {
          "base_uri": "https://localhost:8080/"
        },
        "id": "9JJJfHIamcgr",
        "outputId": "70955116-ccf8-40f5-eb41-d134893135ac"
      },
      "source": [
        "num_a=int(input(\"輸入第一個數字？\"))\n",
        "num_b=int(input(\"輸入第二個數字？\"))\n",
        "if num_a<0:\n",
        "    print(\"第一個是負數\")\n",
        "if num_b<0:\n",
        "    print(\"第二個是負數\")\n",
        "print(\"比較完成\")"
      ],
      "execution_count": 11,
      "outputs": [
        {
          "output_type": "stream",
          "text": [
            "輸入第一個數字？5\n",
            "輸入第二個數字？8\n",
            "比較完成\n"
          ],
          "name": "stdout"
        }
      ]
    },
    {
      "cell_type": "code",
      "metadata": {
        "id": "ed-CLlnOFeCr"
      },
      "source": [
        "8**範例：今晚要煮義大利麵嗎?**"
      ],
      "execution_count": null,
      "outputs": []
    },
    {
      "cell_type": "code",
      "metadata": {
        "id": "NcmeWbHDFeCs"
      },
      "source": [
        "In [10]: ## 今晚吃義大利麵嗎？\n",
        "    ...: noodle = input(\"有麵嗎？ YES or NO: \")\n",
        "    ...: sauce = input(\"有醬料嗎？ YES or NO: \")\n",
        "    ...: \n",
        "    ...: ## 方法（一）\n",
        "    ...: if noodle==\"YES\" and sauce==\"YES\": # 真值表結果\n",
        "    ...: \tprint(\"今天晚上吃義大利麵\")\n",
        "\n",
        "有麵嗎？ YES or NO: YES\n",
        "\n",
        "有醬料嗎？ YES or NO: YES\n",
        "今天晚上吃義大利麵\n",
        "\n",
        "In [11]: ## 方法（二）\n",
        "    ...: if noodle == \"YES\":\n",
        "    ...: \tif sauce == \"YES\":\n",
        "    ...: \t\tprint(\"今天晚上吃義大利麵\")\n",
        "    ...:         \n",
        "今天晚上吃義大利麵"
      ],
      "execution_count": null,
      "outputs": []
    },
    {
      "cell_type": "markdown",
      "metadata": {
        "id": "6i_yIHUiFeCs"
      },
      "source": [
        "## 2.  雙向選擇\n"
      ]
    },
    {
      "cell_type": "code",
      "metadata": {
        "id": "D4ARA9QKFeCs"
      },
      "source": [
        "**範例: 判斷及格與不及格**\n",
        "\n",
        " In [1]: score = int(input('請輸入一個成績？'))\n",
        "    ...: if score >= 60:\n",
        "    ...:     print('有及格ㄡ～')\n",
        "    ...: else:\n",
        "    ...:     print('不及格ㄟ！')\n",
        "    ...:     \n",
        "\n",
        "請輸入一個成績？88\n",
        "有及格ㄡ～"
      ],
      "execution_count": null,
      "outputs": []
    },
    {
      "cell_type": "code",
      "metadata": {
        "id": "X2KbiiEmFeCt",
        "colab": {
          "base_uri": "https://localhost:8080/"
        },
        "outputId": "642f9c6a-59ab-44d8-ee28-29d1a09ad7f1"
      },
      "source": [
        "score=int(input(\"請輸入一個成績？\"))\n",
        "if score>=60:\n",
        "    print(\"有及格ㄡ～\")\n",
        "else:\n",
        "    print(\"不及格ㄟ！\")"
      ],
      "execution_count": 13,
      "outputs": [
        {
          "output_type": "stream",
          "text": [
            "請輸入一個成績？88\n",
            "有及格ㄡ～\n"
          ],
          "name": "stdout"
        }
      ]
    },
    {
      "cell_type": "markdown",
      "metadata": {
        "id": "oEy49ecHFeCt"
      },
      "source": [
        "#### 隨堂練習: 滿2000 打九折\n",
        "\n",
        "**請寫一個程式幫助店家計算顧客所需付出的金額。**\n",
        "\n",
        "採買物品時，有時會遇到店家為了刺激消費，會使用滿額折扣。例如，滿2000 打九折，未滿2000 則不打折。"
      ]
    },
    {
      "cell_type": "code",
      "metadata": {
        "id": "vOOdLqXwFeCt",
        "colab": {
          "base_uri": "https://localhost:8080/"
        },
        "outputId": "2d029c47-2c73-4e74-c385-59ec5b334fd7"
      },
      "source": [
        "price=int(input(\"請輸入折扣前總金額:\"))\n",
        "total=price*0.9\n",
        "if price<2000:\n",
        "    print(\"未滿2000不打折\")\n",
        "else:\n",
        "    print(\"總金額\",total)"
      ],
      "execution_count": 17,
      "outputs": [
        {
          "output_type": "stream",
          "text": [
            "請輸入折扣前總金額:2000\n",
            "總金額 1800.0\n"
          ],
          "name": "stdout"
        }
      ]
    },
    {
      "cell_type": "code",
      "metadata": {
        "id": "z_L1HUm-FeCt"
      },
      "source": [
        "#### 範例 三角形判斷\n",
        "\n",
        "設計一個程式允許輸入三角形三邊長，分別為a、b 與c，根據三角形中任兩邊相加要大於第三邊，判斷是否為三角形。\n",
        "\n",
        "In [1]: a = int(input('請輸入三角形邊長a長度為？'))\n",
        "    ...: b = int(input('請輸入三角形邊長b長度為？'))\n",
        "    ...: c = int(input('請輸入三角形邊長c長度為？'))\n",
        "    ...: \n",
        "    ...: if (a < b + c)and(b < a + c)and( c < a + b):   #任兩邊相加是否大於第三邊\n",
        "    ...:     print('可構成三角形')\n",
        "    ...: else:\n",
        "    ...:     print('無法構成三角形')\n",
        "    ...:     \n",
        "\n",
        "請輸入三角形邊長a長度為？3\n",
        "\n",
        "請輸入三角形邊長b長度為？4\n",
        "\n",
        "請輸入三角形邊長c長度為？5\n",
        "可構成三角形"
      ],
      "execution_count": null,
      "outputs": []
    },
    {
      "cell_type": "code",
      "metadata": {
        "id": "mSNqwXkIFeCu",
        "colab": {
          "base_uri": "https://localhost:8080/"
        },
        "outputId": "f7a93669-0642-4be0-c2d7-d318d5198c72"
      },
      "source": [
        "a=int(input(\"請輸入三角形邊長a長度為？\"))\n",
        "b=int(input(\"請輸入三角形邊長b長度為？\"))\n",
        "c=int(input(\"請輸入三角形邊長c長度為？\"))\n",
        "if (a<b+c)and(b<a+c)and(c<a+b):\n",
        "    print(\"可構成三角形\")\n",
        "else:\n",
        "        print(\"無法構成三角形\")"
      ],
      "execution_count": 19,
      "outputs": [
        {
          "output_type": "stream",
          "text": [
            "請輸入三角形邊長a長度為？3\n",
            "請輸入三角形邊長b長度為？4\n",
            "請輸入三角形邊長c長度為？5\n",
            "可構成三角形\n"
          ],
          "name": "stdout"
        }
      ]
    },
    {
      "cell_type": "markdown",
      "metadata": {
        "id": "_cODCThQFeCu"
      },
      "source": [
        "#### 隨堂練習: 判斷奇偶數\n",
        "\n",
        "請寫一個程式判斷輸入的值是奇數還是偶數。"
      ]
    },
    {
      "cell_type": "code",
      "metadata": {
        "id": "wwvro5CDFeCu",
        "colab": {
          "base_uri": "https://localhost:8080/"
        },
        "outputId": "809cc390-b2a0-4a13-81fa-9e77493490b5"
      },
      "source": [
        "num=int(input(\"請輸入一個數字:\"))\n",
        "if num%2==1:\n",
        "    print(\"奇數\")\n",
        "else:\n",
        "    print(\"偶數\")"
      ],
      "execution_count": 20,
      "outputs": [
        {
          "output_type": "stream",
          "text": [
            "請輸入一個數字:3\n",
            "奇數\n"
          ],
          "name": "stdout"
        }
      ]
    },
    {
      "cell_type": "markdown",
      "metadata": {
        "id": "gsnePOcVFeCu"
      },
      "source": [
        "## 3. 多向選擇\n"
      ]
    },
    {
      "cell_type": "code",
      "metadata": {
        "id": "_qEJDDjVFeCu"
      },
      "source": [
        "#### 範例：兩個數比大小\n",
        "\n",
        "In [1]: ## Input\n",
        "    ...: num1 = int(input(\"Please input a number: \"))\n",
        "    ...: num2 = int(input(\"Please input another number: \"))\n",
        "    ...: \n",
        "    ...: ## Process＋ Output\n",
        "    ...: if num1 == num2:\n",
        "    ...:     print(num1, \"等於\", num2)\n",
        "    ...: elif num1 < num2:\n",
        "    ...:     print(num1, \"小於\", num2)\n",
        "    ...: else:\n",
        "    ...:     print(num1, \"大於\", num2)\n",
        "\n",
        "Please input a number: 5\n",
        "\n",
        "Please input another number: 8\n",
        "5 小於 8"
      ],
      "execution_count": null,
      "outputs": []
    },
    {
      "cell_type": "code",
      "metadata": {
        "id": "LqLWE7wtFeCu",
        "colab": {
          "base_uri": "https://localhost:8080/"
        },
        "outputId": "65692dcb-6fd9-4ebe-d7e5-59b7d3f24166"
      },
      "source": [
        "num1=int(input(\"Please input a number:\"))\n",
        "num2=int(input(\"Please input another number:\"))\n",
        "if num1==num2:\n",
        "    print(num1,\"等於\",num2)\n",
        "elif num1 < num2:\n",
        "    print(num1,\"小於\",num2)\n",
        "else:\n",
        "    print(num1,\"大於\",num2)"
      ],
      "execution_count": 21,
      "outputs": [
        {
          "output_type": "stream",
          "text": [
            "Please input a number:5\n",
            "Please input another number:8\n",
            "5 小於 8\n"
          ],
          "name": "stdout"
        }
      ]
    },
    {
      "cell_type": "code",
      "metadata": {
        "id": "_mt9UkyyFeCv"
      },
      "source": [
        "#### 範例 : 郵資計算\n",
        "\n",
        "某快遞公司以重量為計算郵資的依據，重量與郵資計算如下表，請寫一個程式協助快遞人員計算郵資，快遞人員只要輸入重量，程式自動計算郵資。\n",
        "\n",
        "In [1]: ## 郵資計算\n",
        "    ...: w = float(input('請輸入物品重量？')) # Input\n",
        "    ...: \n",
        "    ...: if w <= 5:                          \n",
        "    ...:     print('所需郵資為50元')\n",
        "    ...: elif w <= 10:\n",
        "    ...:     print('所需郵資為70元')\n",
        "    ...: elif w <= 15:\n",
        "    ...:     print('所需郵資為90元')\n",
        "    ...: elif w <= 20:\n",
        "    ...:     print('所需郵資為110元')\n",
        "    ...: else:\n",
        "    ...:     print('超過20公斤無法寄送')\n",
        "\n",
        "請輸入物品重量？20\n",
        "所需郵資為110元"
      ],
      "execution_count": null,
      "outputs": []
    },
    {
      "cell_type": "code",
      "metadata": {
        "id": "EFHPyprIFeCv",
        "colab": {
          "base_uri": "https://localhost:8080/"
        },
        "outputId": "d17fbd90-bba5-4acb-aca4-e72a2ddedd6f"
      },
      "source": [
        "w=float(input(\"請輸入物品重量？\"))\n",
        "if w<=5:\n",
        "    print(\"所需郵資為50元\")\n",
        "elif w<=10:\n",
        "    print(\"所需郵資為70元\")\n",
        "elif w<=15:\n",
        "    print(\"所需郵資為90元\")\n",
        "elif w<=20:\n",
        "    print(\"所需郵資為110元\")\n",
        "else:\n",
        "    print(\"超過20公斤無法寄\")"
      ],
      "execution_count": 23,
      "outputs": [
        {
          "output_type": "stream",
          "text": [
            "請輸入物品重量？20\n",
            "所需郵資為110元\n"
          ],
          "name": "stdout"
        }
      ]
    },
    {
      "cell_type": "markdown",
      "metadata": {
        "id": "Z_tLSr4fFeCv"
      },
      "source": [
        "#### 隨堂練習： BMI 計算\n",
        "\n",
        "**請寫一個程式讓使用者輸入身高與體重，顯示BMI 值與肥胖程度。**"
      ]
    },
    {
      "cell_type": "code",
      "metadata": {
        "id": "5PTT5FN1FeCv",
        "colab": {
          "base_uri": "https://localhost:8080/"
        },
        "outputId": "c141ef39-03da-4e2c-9e7e-e4099ce29fa7"
      },
      "source": [
        "w=float(input(\"請輸入體重(kg)\"))\n",
        "h=float(input(\"請輸入身高(m)\"))\n",
        "BMI=w/(h*h)\n",
        "if BMI<=18:\n",
        "    print(\"體重過輕\")\n",
        "elif BMI<=24:\n",
        "    print(\"體重正常\")\n",
        "elif BMI<=27:\n",
        "    print(\"體重過重\")\n",
        "else:\n",
        "    print(\"體重肥胖\")"
      ],
      "execution_count": 25,
      "outputs": [
        {
          "output_type": "stream",
          "text": [
            "請輸入體重(kg)62.2\n",
            "請輸入身高(m)1.61\n",
            "體重正常\n"
          ],
          "name": "stdout"
        }
      ]
    }
  ]
}