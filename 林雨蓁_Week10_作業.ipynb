{
  "nbformat": 4,
  "nbformat_minor": 0,
  "metadata": {
    "kernelspec": {
      "display_name": "Python 3",
      "language": "python",
      "name": "python3"
    },
    "language_info": {
      "codemirror_mode": {
        "name": "ipython",
        "version": 3
      },
      "file_extension": ".py",
      "mimetype": "text/x-python",
      "name": "python",
      "nbconvert_exporter": "python",
      "pygments_lexer": "ipython3",
      "version": "3.8.5"
    },
    "colab": {
      "name": "林雨蓁-Week10-作業.ipynb",
      "provenance": [],
      "include_colab_link": true
    }
  },
  "cells": [
    {
      "cell_type": "markdown",
      "metadata": {
        "id": "view-in-github",
        "colab_type": "text"
      },
      "source": [
        "<a href=\"https://colab.research.google.com/github/A109010046/Computational-Thinking-and-Program-Design/blob/main/%E6%9E%97%E9%9B%A8%E8%93%81_Week10_%E4%BD%9C%E6%A5%AD.ipynb\" target=\"_parent\"><img src=\"https://colab.research.google.com/assets/colab-badge.svg\" alt=\"Open In Colab\"/></a>"
      ]
    },
    {
      "cell_type": "markdown",
      "metadata": {
        "id": "2hCyfsLOF8OE"
      },
      "source": [
        "# 基本程式設計(應用篇)"
      ]
    },
    {
      "cell_type": "markdown",
      "metadata": {
        "id": "mwv44LtpF8OG"
      },
      "source": [
        "### 4-2 運算思維四個基石"
      ]
    },
    {
      "cell_type": "markdown",
      "metadata": {
        "id": "HdlYlWdyF8OG"
      },
      "source": [
        "#### 4-2-4  問題拆解 - 打造你的聊天機器人"
      ]
    },
    {
      "cell_type": "markdown",
      "metadata": {
        "id": "TATYk9KiF8OH"
      },
      "source": [
        "「哈囉，大家好。我叫Zyxo64，是一個聊天機器人。\n",
        "\n",
        "在嗜好與興趣方面，我很喜歡美食，也喜歡養動物。\n",
        "\n",
        "很高興有機會來到世新大學，請大家多多指教。\n",
        "\n",
        "嗨！妳好，請問大名？：Francis。\n",
        "\n",
        "Francis，很高興認識你。"
      ]
    },
    {
      "cell_type": "code",
      "metadata": {
        "id": "hfDxZX75F8OH",
        "colab": {
          "base_uri": "https://localhost:8080/"
        },
        "outputId": "f5796455-f3a5-4c72-b57b-dd1a596dfdf0"
      },
      "source": [
        "# 1.聊天機器人自我介紹\n",
        "print(\"哈囉，大家好。我叫Zyxo64，是一個聊天機器人。\")\n",
        "hobby=\"在嗜好與興趣方面，我很喜歡美食，也喜歡養動物。很高興有機會來到世新大學，請大家多多指教。\"\n",
        "print(hobby)\n",
        "# 2. 打招呼，取得對方名字\n",
        "name=input(\"嗨！妳好，請問大名？\")\n",
        "print(\"你好\",name,\"很高興認識你。\")"
      ],
      "execution_count": 3,
      "outputs": [
        {
          "output_type": "stream",
          "text": [
            "哈囉，大家好。我叫Zyxo64，是一個聊天機器人。\n",
            "在嗜好與興趣方面，我很喜歡美食，也喜歡養動物。很高興有機會來到世新大學，請大家多多指教。\n",
            "嗨！妳好，請問大名？Francis\n",
            "你好 Francis 很高興認識你。\n"
          ],
          "name": "stdout"
        }
      ]
    },
    {
      "cell_type": "markdown",
      "metadata": {
        "id": "K0nCGfwyF8OI"
      },
      "source": [
        "抱歉，請問一下今年是西元2021年，那是民國幾年呢？：*110*。\n",
        "\n",
        "對！沒錯，謝謝妳！\n",
        "\n",
        "**Francis**，猜猜看我今年幾歲？ ：**18**。\n",
        "\n",
        "哇！你好聰明，我今年的確*18*。\n",
        "\n",
        "再82年我就100歲了。\n",
        "\n",
        "那時候是西元 2103年，也就是民國192年囉！"
      ]
    },
    {
      "cell_type": "code",
      "metadata": {
        "id": "jko7N1hOF8OI",
        "colab": {
          "base_uri": "https://localhost:8080/"
        },
        "outputId": "8b481e71-1189-4297-a342-1736ce0e296c"
      },
      "source": [
        "# 3. 數學運算\n",
        "## 3-1 從使用者取得今年年份\n",
        "year=input(\"抱歉，請問一下今年是西元2021年，那是民國幾年呢？\")\n",
        "print(\"對！沒錯，謝謝妳！\")\n",
        "## 3-2 請使用者猜年齡\n",
        "myage=int(input(\"Francis，猜猜看我今年幾歲？\"))\n",
        "print(\"哇！你好聰明，我今年的確\",myage)\n",
        "## 3-3 計算聊天機器人滿100歲的年份\n",
        "nyears=100-myage\n",
        "print(\"我再\",nyears,\"就100歲了\")\n",
        "print(\"那時候是西元\",int(year)+nyears+1911,\"年\")\n",
        "print(\"也就是民國\",int(year)+nyears,\"年\")"
      ],
      "execution_count": 6,
      "outputs": [
        {
          "output_type": "stream",
          "text": [
            "抱歉，請問一下今年是西元2021年，那是民國幾年呢？110\n",
            "對！沒錯，謝謝妳！\n",
            "Francis，猜猜看我今年幾歲？18\n",
            "哇！你好聰明，我今年的確 18\n",
            "我再 82 就100歲了\n",
            "那時候是西元 2103 年\n",
            "也就是民國 192 年\n"
          ],
          "name": "stdout"
        }
      ]
    },
    {
      "cell_type": "markdown",
      "metadata": {
        "id": "h24XhWgsF8OI"
      },
      "source": [
        "我喜歡吃巧克力，也喜歡嘗試各種新食物。\n",
        "\n",
        "你呢？你最喜歡的食物是什麼？**:披薩**。\n",
        "\n",
        "我也喜歡 *披薩*。\n",
        "\n",
        "你多久吃一次 *披薩*？**：每天**。\n",
        "\n",
        "真有趣。不知道這樣對健康好不好。"
      ]
    },
    {
      "cell_type": "code",
      "metadata": {
        "id": "yGP56IM0F8OI",
        "colab": {
          "base_uri": "https://localhost:8080/"
        },
        "outputId": "fe5c96bd-3b84-41fe-d183-536835e2f2c0"
      },
      "source": [
        "# 4 興趣\n",
        "## 4-1 食物話題\n",
        "print(\"我喜歡吃巧克力，也喜歡嘗試各種新食物。\")\n",
        "food=input(\"你呢？你最喜歡的食物是什麼？\")\n",
        "print(\"我也喜歡\",food)\n",
        "question=\"你多久吃一次\"+food+\"?\"\n",
        "frequency=input(question)\n",
        "print(\"真有趣。不知道這樣對健康好不好。\")"
      ],
      "execution_count": 7,
      "outputs": [
        {
          "output_type": "stream",
          "text": [
            "我喜歡吃巧克力，也喜歡嘗試各種新食物。\n",
            "你呢？你最喜歡的食物是什麼？pizza\n",
            "我也喜歡 pizza\n",
            "你多久吃一次pizza?every day\n",
            "真有趣。不知道這樣對健康好不好。\n"
          ],
          "name": "stdout"
        }
      ]
    },
    {
      "cell_type": "markdown",
      "metadata": {
        "id": "3MaNjP6BF8OJ"
      },
      "source": [
        "我最喜歡的動物是長頸鹿。你呢？ **：烏龜**。\n",
        "\n",
        "我不喜歡*烏龜*！\n",
        "\n",
        "不知道 *烏龜* 喜不喜歡吃 *披薩*？"
      ]
    },
    {
      "cell_type": "code",
      "metadata": {
        "id": "IpEm8YH-F8OJ",
        "colab": {
          "base_uri": "https://localhost:8080/"
        },
        "outputId": "b72a7596-8599-43a2-bc05-f687623dcab9"
      },
      "source": [
        "# 4 興趣\n",
        "## 4-2 動物話題\n",
        "animal=input(\"我最喜歡的動物是長頸鹿。你呢？\")\n",
        "print(\"我不喜歡\",animal)\n",
        "print(\"不知道\",animal,\"喜不喜歡吃\",food,\"?\")"
      ],
      "execution_count": 8,
      "outputs": [
        {
          "output_type": "stream",
          "text": [
            "我最喜歡的動物是長頸鹿。你呢？烏龜\n",
            "我不喜歡 烏龜\n",
            "不知道 烏龜 喜不喜歡吃 pizza ?\n"
          ],
          "name": "stdout"
        }
      ]
    },
    {
      "cell_type": "markdown",
      "metadata": {
        "id": "Duc2syqAF8OJ"
      },
      "source": [
        "你今天的心情如何？ **：很開心**。\n",
        "\n",
        "可以告訴我你 *開心* 的原因嗎？**因為週末了！** \n",
        "\n",
        "祝你週末愉快！\n",
        "\n",
        "我喜歡跟你聊天，現在有點累了，改天再聊吧！！\n",
        "\n",
        "再見 *Francis*！"
      ]
    },
    {
      "cell_type": "code",
      "metadata": {
        "id": "1joHYrquF8OJ",
        "colab": {
          "base_uri": "https://localhost:8080/"
        },
        "outputId": "53167382-ee69-4328-a683-ceef97998d6d"
      },
      "source": [
        "# 5. 關於心情的對話\n",
        "feeling=input(\"你今天的心情如何？\")\n",
        "print(\"可以告訴我你\",feeling,\"的原因嗎?\")\n",
        "reason=input(\"Why?\")\n",
        "print(\"祝你週末愉快！我喜歡跟你聊天，現在有點累了，改天再聊吧！！再見\",name,\"!\")"
      ],
      "execution_count": 12,
      "outputs": [
        {
          "output_type": "stream",
          "text": [
            "你今天的心情如何？very happy\n",
            "可以告訴我你 very happy 的原因嗎?\n",
            "Why?It's weekend!\n",
            "祝你週末愉快！我喜歡跟你聊天，現在有點累了，改天再聊吧！！再見 Francis !\n"
          ],
          "name": "stdout"
        }
      ]
    },
    {
      "cell_type": "markdown",
      "metadata": {
        "id": "46MpjB8CF8OK"
      },
      "source": [
        "## 期末報告"
      ]
    },
    {
      "cell_type": "markdown",
      "metadata": {
        "id": "O4kfRs3LF8OL"
      },
      "source": [
        "### 組長(學號姓名):\n",
        "\n"
      ]
    },
    {
      "cell_type": "markdown",
      "metadata": {
        "id": "xGDuNaBbF8OL"
      },
      "source": [
        "### 組員(學號姓名):\n",
        "\n"
      ]
    },
    {
      "cell_type": "markdown",
      "metadata": {
        "id": "KDsTQPznF8OL"
      },
      "source": [
        "### 題目:"
      ]
    },
    {
      "cell_type": "markdown",
      "metadata": {
        "id": "6TUfwxofF8OL"
      },
      "source": [
        "### 百字腳本\n",
        "\n"
      ]
    }
  ]
}